{
 "cells": [
  {
   "cell_type": "code",
   "execution_count": 1,
   "metadata": {},
   "outputs": [],
   "source": [
    "import pandas as pd\n",
    "import pintpandas\n",
    "\n",
    "DISTRICT_HEATING_OPERATOR = '005'  # Helen Oy\n",
    "INPUT_DATASETS = [\n",
    "    'jyrjola/energiateollisuus/district_heating_fuel',\n",
    "    'jyrjola/energiateollisuus/district_heating_production',\n",
    "    'jyrjola/statfi/fuel_classification'\n",
    "]\n",
    "from utils.quilt import load_datasets\n",
    "\n",
    "dh_fuel_df, dh_production_df, fuel_classification = load_datasets(INPUT_DATASETS)"
   ]
  },
  {
   "cell_type": "code",
   "execution_count": 2,
   "metadata": {},
   "outputs": [],
   "source": [
    "fuel_co2 = fuel_classification[['code', 'co2e_emission_factor', 'is_bio']].set_index('code')\n",
    "df = dh_fuel_df[dh_fuel_df.Operator == DISTRICT_HEATING_OPERATOR]\n",
    "df = df.merge(fuel_co2, how='left', left_on='StatfiFuelCode', right_index=True)\n",
    "df.co2e_emission_factor = df.co2e_emission_factor.astype('pint[t/TJ]')\n",
    "df.Value = df.Value.astype('pint[GWh]')\n",
    "operator_fuel_with_co2 = df.copy()\n",
    "df['Emissions'] = (df.Value * df.co2e_emission_factor).pint.to('tonne').pint.m\n",
    "\n",
    "df.loc[df.is_bio == True, 'Emissions'] = 0\n",
    "emissions = df[df.Operator == DISTRICT_HEATING_OPERATOR].groupby('Year').Emissions.sum()\n",
    "emissions.name = 'Emissions'"
   ]
  },
  {
   "cell_type": "code",
   "execution_count": 11,
   "metadata": {},
   "outputs": [
    {
     "data": {
      "text/plain": [
       "Year\n",
       "2005    20760.846154\n",
       "2010    22525.213675\n",
       "2014    19464.923077\n",
       "2015    18607.247863\n",
       "2016    17566.957265\n",
       "2017    17423.811966\n",
       "dtype: float64"
      ]
     },
     "execution_count": 11,
     "metadata": {},
     "output_type": "execute_result"
    }
   ],
   "source": [
    "df = dh_production_df\n",
    "df = df[df.Operator == DISTRICT_HEATING_OPERATOR]\n",
    "#display(df)\n",
    "heat_production = df[df.Quantity == 'Käyttö'].set_index('Year').Value\n",
    "heat_production.name = 'Heat production'\n",
    "electricity_production = df[df.Quantity == 'Kaukolämmön tuotantoon liittyvä sähkön nettotuotanto'].set_index('Year').Value\n",
    "electricity_production.name = 'Electricity production'\n",
    "\n",
    "# Determine the CHP alternate production energy consumptions according to the efficiency method\n",
    "electricity_production_alternate = electricity_production / 0.39\n",
    "heat_production_alternate = heat_production / 0.90\n",
    "total = electricity_production_alternate + heat_production_alternate\n",
    "heat_share = heat_production_alternate / total\n",
    "heat_share.name = 'Share of heat production'\n"
   ]
  },
  {
   "cell_type": "code",
   "execution_count": 13,
   "metadata": {},
   "outputs": [
    {
     "data": {
      "text/html": [
       "<div>\n",
       "<style scoped>\n",
       "    .dataframe tbody tr th:only-of-type {\n",
       "        vertical-align: middle;\n",
       "    }\n",
       "\n",
       "    .dataframe tbody tr th {\n",
       "        vertical-align: top;\n",
       "    }\n",
       "\n",
       "    .dataframe thead th {\n",
       "        text-align: right;\n",
       "    }\n",
       "</style>\n",
       "<table border=\"1\" class=\"dataframe\">\n",
       "  <thead>\n",
       "    <tr style=\"text-align: right;\">\n",
       "      <th></th>\n",
       "      <th>Emissions</th>\n",
       "      <th>Heat production</th>\n",
       "      <th>Electricity production</th>\n",
       "      <th>Share of heat production</th>\n",
       "      <th>HeatUnitEmissions</th>\n",
       "      <th>ElectricityUnitEmissions</th>\n",
       "    </tr>\n",
       "    <tr>\n",
       "      <th>Year</th>\n",
       "      <th></th>\n",
       "      <th></th>\n",
       "      <th></th>\n",
       "      <th></th>\n",
       "      <th></th>\n",
       "      <th></th>\n",
       "    </tr>\n",
       "  </thead>\n",
       "  <tbody>\n",
       "    <tr>\n",
       "      <th>2005</th>\n",
       "      <td>3433191.804</td>\n",
       "      <td>6531.3</td>\n",
       "      <td>5266.5</td>\n",
       "      <td>0.349552</td>\n",
       "      <td>183.742875</td>\n",
       "      <td>424.022019</td>\n",
       "    </tr>\n",
       "    <tr>\n",
       "      <th>2010</th>\n",
       "      <td>3706427.556</td>\n",
       "      <td>7360.0</td>\n",
       "      <td>5595.5</td>\n",
       "      <td>0.363050</td>\n",
       "      <td>182.828580</td>\n",
       "      <td>421.912109</td>\n",
       "    </tr>\n",
       "    <tr>\n",
       "      <th>2014</th>\n",
       "      <td>3167250.696</td>\n",
       "      <td>6385.2</td>\n",
       "      <td>4824.4</td>\n",
       "      <td>0.364485</td>\n",
       "      <td>180.795343</td>\n",
       "      <td>417.220022</td>\n",
       "    </tr>\n",
       "    <tr>\n",
       "      <th>2015</th>\n",
       "      <td>2963375.856</td>\n",
       "      <td>5984.6</td>\n",
       "      <td>4663.5</td>\n",
       "      <td>0.357364</td>\n",
       "      <td>176.954693</td>\n",
       "      <td>408.356985</td>\n",
       "    </tr>\n",
       "    <tr>\n",
       "      <th>2016</th>\n",
       "      <td>3271407.372</td>\n",
       "      <td>6632.8</td>\n",
       "      <td>3976.9</td>\n",
       "      <td>0.419525</td>\n",
       "      <td>206.916714</td>\n",
       "      <td>477.500110</td>\n",
       "    </tr>\n",
       "    <tr>\n",
       "      <th>2017</th>\n",
       "      <td>3272854.104</td>\n",
       "      <td>6606.2</td>\n",
       "      <td>3932.6</td>\n",
       "      <td>0.421275</td>\n",
       "      <td>208.708896</td>\n",
       "      <td>481.635914</td>\n",
       "    </tr>\n",
       "  </tbody>\n",
       "</table>\n",
       "</div>"
      ],
      "text/plain": [
       "        Emissions  Heat production  Electricity production  \\\n",
       "Year                                                         \n",
       "2005  3433191.804           6531.3                  5266.5   \n",
       "2010  3706427.556           7360.0                  5595.5   \n",
       "2014  3167250.696           6385.2                  4824.4   \n",
       "2015  2963375.856           5984.6                  4663.5   \n",
       "2016  3271407.372           6632.8                  3976.9   \n",
       "2017  3272854.104           6606.2                  3932.6   \n",
       "\n",
       "      Share of heat production  HeatUnitEmissions  ElectricityUnitEmissions  \n",
       "Year                                                                         \n",
       "2005                  0.349552         183.742875                424.022019  \n",
       "2010                  0.363050         182.828580                421.912109  \n",
       "2014                  0.364485         180.795343                417.220022  \n",
       "2015                  0.357364         176.954693                408.356985  \n",
       "2016                  0.419525         206.916714                477.500110  \n",
       "2017                  0.421275         208.708896                481.635914  "
      ]
     },
     "execution_count": 13,
     "metadata": {},
     "output_type": "execute_result"
    }
   ],
   "source": [
    "df = pd.concat([emissions, heat_production, electricity_production, heat_share], axis=1)\n",
    "df['HeatUnitEmissions'] = df.Emissions / df['Heat production'] * df['Share of heat production']\n",
    "df['ElectricityUnitEmissions'] = df.Emissions / df['Electricity production'] * (1 - df['Share of heat production'])\n",
    "df"
   ]
  },
  {
   "cell_type": "code",
   "execution_count": 8,
   "metadata": {},
   "outputs": [],
   "source": [
    "df = operator_fuel_with_co2.set_index('Year')\n",
    "last_year = df.loc[df.index.max()]\n",
    "last_year = last_year[~last_year.StatfiFuelCode.isna()]\n",
    "all_fuels = last_year.Value.pint.m.sum()\n",
    "last_year['Share'] = last_year.Value / all_fuels\n",
    "last_year\n",
    "\n",
    "target_year_shares = {\n",
    "    'Puupelletit ja -briketit': 30,\n",
    "    'Kivihiili ja antrasiitti': 30,\n",
    "    \n",
    "}"
   ]
  },
  {
   "cell_type": "code",
   "execution_count": null,
   "metadata": {},
   "outputs": [],
   "source": [
    "from quilt."
   ]
  }
 ],
 "metadata": {
  "kernelspec": {
   "display_name": "Python 3",
   "language": "python",
   "name": "python3"
  },
  "language_info": {
   "codemirror_mode": {
    "name": "ipython",
    "version": 3
   },
   "file_extension": ".py",
   "mimetype": "text/x-python",
   "name": "python",
   "nbconvert_exporter": "python",
   "pygments_lexer": "ipython3",
   "version": "3.7.1"
  }
 },
 "nbformat": 4,
 "nbformat_minor": 2
}
