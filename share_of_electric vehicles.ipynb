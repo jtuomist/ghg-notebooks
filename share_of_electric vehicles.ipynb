{
 "cells": [
  {
   "cell_type": "markdown",
   "metadata": {},
   "source": [
    "# Greenhouse gas emissions of passenger car traffic in Helsinki\n",
    "\n",
    "[![Binder](https://mybinder.org/badge_logo.svg)](https://mybinder.org/v2/gh/juyrjola/ghg-helsinki/master?urlpath=lab/tree/share_of_electric_vehicles.ipynb)\n",
    "\n",
    "Click Run -> Run All Cells to run the calculations."
   ]
  },
  {
   "cell_type": "code",
   "execution_count": null,
   "metadata": {},
   "outputs": [],
   "source": [
    "INPUT_DATASETS = ['jyrjola/ymparistotilastot']\n",
    "\n",
    "import math\n",
    "import re\n",
    "import pandas as pd\n",
    "import numpy as np\n",
    "import importlib\n",
    "\n",
    "for dataset in INPUT_DATASETS:\n",
    "    mod_path = dataset.replace('/', '.')\n",
    "    try:\n",
    "        mod = importlib.import_module('quilt.data.%s' % mod_path)\n",
    "    except ImportError:\n",
    "        import quilt\n",
    "        quilt.install(dataset)\n",
    "\n",
    "from quilt.data.jyrjola import ymparistotilastot\n",
    "from utils import dict_merge\n",
    "import aplans_graphs\n",
    "\n",
    "import plotly\n",
    "import plotly.graph_objs as go\n",
    "import cufflinks as cf\n",
    "\n",
    "plotly.offline.init_notebook_mode(connected=True)\n",
    "cf.set_config_file(offline=True)"
   ]
  },
  {
   "cell_type": "code",
   "execution_count": null,
   "metadata": {},
   "outputs": [],
   "source": [
    "df = ymparistotilastot.l34_polttoaine_tavoitteet().copy()\n",
    "display(df.set_index(['Vuosi']))\n",
    "\n",
    "df['Muut'] = df['Maakaasu'] + df['Bensiini/maakaasu'] + df['Bensiini/etanoli'] + df['Bensiini/sähkö'] + df['Sähkö']+ df['Diesel/sähkö'] + df['Muu/tuntemato']\n",
    "for name in ['Bensiini', 'Diesel', 'Muut']:\n",
    "    df[name] = df[name] / df['Yhteensä']\n",
    "\n",
    "start_year = df['Vuosi'].max()\n",
    "start_val = df.loc[df['Vuosi'] == start_year]['Muut'].sum()\n",
    "target_series = pd.Series([start_val, 0.20], index=[start_year, 2020])\n",
    "target_series = target_series.reindex(range(target_series.index.min(), target_series.index.max() + 1))\n",
    "target_series = target_series.interpolate(method='pchip')\n",
    "\n",
    "\n",
    "data = [\n",
    "    go.Scatter(\n",
    "        x=df['Vuosi'], y=df['Bensiini'], name='Bensiini',\n",
    "        line=dict(color='#ffc61e'),\n",
    "    ),\n",
    "    go.Scatter(\n",
    "        x=df['Vuosi'], y=df['Diesel'], name='Diesel',\n",
    "        line=dict(color='#c2a251'),\n",
    "    ),\n",
    "    go.Scatter(\n",
    "        x=df['Vuosi'], y=df['Muut'], name='Muut',\n",
    "        line=dict(color='#00d7a7'),\n",
    "    ),\n",
    "    go.Scatter(\n",
    "        x=target_series.index, y=target_series, name='Tavoite',\n",
    "        line=dict(color='#009246', dash='dash')\n",
    "    )\n",
    "]\n",
    "d = {\n",
    "    \"xaxis\": dict(title='Vuosi', fixedrange=True),\n",
    "    \"yaxis\": dict(fixedrange=True, tickformat=',.0%', rangemode=\"tozero\"),\n",
    "    \"title\": \"Helsingissä ensirekisteröidyjen henkilöautojen osuudet käyttövoiman mukaan\",\n",
    "}\n",
    "fig = go.Figure(data=data, layout=d)\n",
    "\n",
    "plotly.offline.iplot(fig)\n",
    "aplans_graphs.post_graph(fig, 14)\n"
   ]
  },
  {
   "cell_type": "code",
   "execution_count": null,
   "metadata": {},
   "outputs": [],
   "source": []
  }
 ],
 "metadata": {
  "kernelspec": {
   "display_name": "Python 3",
   "language": "python",
   "name": "python3"
  },
  "language_info": {
   "codemirror_mode": {
    "name": "ipython",
    "version": 3
   },
   "file_extension": ".py",
   "mimetype": "text/x-python",
   "name": "python",
   "nbconvert_exporter": "python",
   "pygments_lexer": "ipython3",
   "version": "3.6.7"
  },
  "widgets": {
   "application/vnd.jupyter.widget-state+json": {
    "state": {},
    "version_major": 1,
    "version_minor": 0
   }
  }
 },
 "nbformat": 4,
 "nbformat_minor": 2
}
